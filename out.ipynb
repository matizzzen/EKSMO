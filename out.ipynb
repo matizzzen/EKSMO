{
 "cells": [
  {
   "cell_type": "code",
   "execution_count": 9,
   "id": "c121b3fa-36f2-4eb9-8582-7223f39d99a4",
   "metadata": {
    "id": "c121b3fa-36f2-4eb9-8582-7223f39d99a4"
   },
   "outputs": [],
   "source": [
    "# !pip install xlsxwriter\n",
    "import pandas as pd\n",
    "import numpy as np\n",
    "import glob\n",
    "from IPython.core.interactiveshell import InteractiveShell\n",
    "InteractiveShell.ast_node_interactivity = \"all\"\n",
    "# pd.options.display.max_rows = 999\n",
    "# pd.set_option('display.max_columns', None)\n"
   ]
  },
  {
   "cell_type": "code",
   "execution_count": 10,
   "id": "3f02e7f3-a90a-4b9b-b4cc-24dc067112e0",
   "metadata": {
    "id": "3f02e7f3-a90a-4b9b-b4cc-24dc067112e0"
   },
   "outputs": [],
   "source": [
    "def autosize_excel_columns(worksheet, df):\n",
    "  autosize_excel_columns_df(worksheet, df.index.to_frame())\n",
    "  autosize_excel_columns_df(worksheet, df, offset=df.index.nlevels)\n",
    "\n",
    "def autosize_excel_columns_df(worksheet, df, offset=0):\n",
    "  for idx, col in enumerate(df):\n",
    "    series = df[col]\n",
    "    max_len = max((\n",
    "      series.astype(str).map(len).max(),\n",
    "      len(str(series.name))\n",
    "    )) + 1\n",
    "    worksheet.set_column(idx+offset, idx+offset, max_len)"
   ]
  },
  {
   "cell_type": "code",
   "execution_count": 21,
   "id": "b23c074c-f8b0-412a-8497-13a8da8778f5",
   "metadata": {
    "id": "b23c074c-f8b0-412a-8497-13a8da8778f5"
   },
   "outputs": [],
   "source": [
    "def create_report(path):\n",
    "    xlsx_list = sorted(glob.glob(f'{path}*.xlsx'))\n",
    "    output = pd.DataFrame()\n",
    "    for name in xlsx_list:\n",
    "        df = pd.read_excel(name, sheet_name = 'сводная таблица',\n",
    "                           index_col = [0, 1],\n",
    "                           usecols = [0, 1, 2, 3, 4])\n",
    "        df.drop(index='Все', inplace=True)\n",
    "        sums = df.groupby(level = 0).sum().drop(columns='Процент неликвидов')\n",
    "        df.drop(columns = ['Всего новинок', 'Всего неликвидов'], inplace=True)\n",
    "        sums['ИТОГ % НЕЛЕКВИДОВ'] = sums['Всего неликвидов'] / sums['Всего новинок'] * 100\n",
    "        sums.rename(columns={'Всего новинок':'ИТОГ ШТ. НОВИНОК', 'Всего неликвидов':'ИТОГ ШТ. НЕЛИКВИДОВ'}, inplace=True)\n",
    "        sums = sums.stack().to_frame(name='Процент неликвидов')\n",
    "        sums['dummy'] = 1\n",
    "        period = pd.concat([df, sums])\n",
    "        period.rename(columns={'Процент неликвидов':name[-15:-8]}, inplace=True)\n",
    "        output = pd.concat([output, period], axis=1)\n",
    "    output['sorter'] = output['dummy'].sum(axis=1)\n",
    "    output = output.sort_values(by=['Редакция', 'sorter']).drop(columns=['dummy', 'sorter'])\n",
    "    return output"
   ]
  },
  {
   "cell_type": "code",
   "execution_count": 22,
   "id": "01960195-6b14-475e-a505-9e51eae6fe4d",
   "metadata": {
    "id": "01960195-6b14-475e-a505-9e51eae6fe4d"
   },
   "outputs": [],
   "source": [
    "def write_output(output, name='output.xlsx', sheet_name='сводная таблица'):\n",
    "    writer = pd.ExcelWriter(name , engine='xlsxwriter') \n",
    "    output.to_excel(writer, sheet_name=sheet_name, na_rep='')\n",
    "    worksheet = writer.sheets[sheet_name]\n",
    "    autosize_excel_columns(worksheet, output)\n",
    "    writer.close()"
   ]
  },
  {
   "cell_type": "code",
   "execution_count": 23,
   "id": "e0c7070e-362a-43e7-a679-4673f799315f",
   "metadata": {},
   "outputs": [],
   "source": [
    "output = create_report('input/ЭКСМО/')\n",
    "write_output(output)"
   ]
  },
  {
   "cell_type": "code",
   "execution_count": null,
   "id": "f9a3b41f-d4f0-41e7-9dc5-b700d058815e",
   "metadata": {},
   "outputs": [],
   "source": []
  }
 ],
 "metadata": {
  "colab": {
   "provenance": []
  },
  "kernelspec": {
   "display_name": "Python 3 (ipykernel)",
   "language": "python",
   "name": "python3"
  },
  "language_info": {
   "codemirror_mode": {
    "name": "ipython",
    "version": 3
   },
   "file_extension": ".py",
   "mimetype": "text/x-python",
   "name": "python",
   "nbconvert_exporter": "python",
   "pygments_lexer": "ipython3",
   "version": "3.10.4"
  }
 },
 "nbformat": 4,
 "nbformat_minor": 5
}
