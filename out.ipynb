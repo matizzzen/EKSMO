{
 "cells": [
  {
   "cell_type": "code",
   "execution_count": 1,
   "id": "c121b3fa-36f2-4eb9-8582-7223f39d99a4",
   "metadata": {
    "executionInfo": {
     "elapsed": 524,
     "status": "ok",
     "timestamp": 1667872530862,
     "user": {
      "displayName": "Антон Матизен",
      "userId": "15165996919912849590"
     },
     "user_tz": -180
    },
    "id": "c121b3fa-36f2-4eb9-8582-7223f39d99a4"
   },
   "outputs": [],
   "source": [
    "import pandas as pd\n",
    "import numpy as np\n",
    "import glob\n",
    "from datetime import datetime as dt\n",
    "from random import randint\n",
    "from IPython.core.interactiveshell import InteractiveShell\n",
    "InteractiveShell.ast_node_interactivity = \"all\"\n",
    "pd.options.display.max_rows = 22\n",
    "pd.set_option('display.max_columns', None)\n",
    "pd.options.mode.chained_assignment = None"
   ]
  },
  {
   "cell_type": "code",
   "execution_count": 2,
   "id": "3f02e7f3-a90a-4b9b-b4cc-24dc067112e0",
   "metadata": {
    "executionInfo": {
     "elapsed": 2,
     "status": "ok",
     "timestamp": 1667872533201,
     "user": {
      "displayName": "Антон Матизен",
      "userId": "15165996919912849590"
     },
     "user_tz": -180
    },
    "id": "3f02e7f3-a90a-4b9b-b4cc-24dc067112e0"
   },
   "outputs": [],
   "source": [
    "# get maximum lengths of the df\n",
    "def get_len(worksheet, df):\n",
    "    lengths = []\n",
    "    for idx, col in enumerate(df):\n",
    "        series = df[col]\n",
    "        max_len = max((series.astype(str).map(len).max(),\n",
    "                       len(str(series.name)))) + 2\n",
    "        lengths.append(max_len)\n",
    "    return lengths"
   ]
  },
  {
   "cell_type": "code",
   "execution_count": 3,
   "id": "b23c074c-f8b0-412a-8497-13a8da8778f5",
   "metadata": {
    "executionInfo": {
     "elapsed": 2,
     "status": "ok",
     "timestamp": 1667872533201,
     "user": {
      "displayName": "Антон Матизен",
      "userId": "15165996919912849590"
     },
     "user_tz": -180
    },
    "id": "b23c074c-f8b0-412a-8497-13a8da8778f5"
   },
   "outputs": [],
   "source": [
    "# Main func of creating a pivot table\n",
    "def create_report(path):\n",
    "    xlsx_list = sorted(glob.glob(f'{path}*.xlsx'))\n",
    "    output = pd.DataFrame()\n",
    "    for name in xlsx_list:\n",
    "        df = pd.read_excel(name, sheet_name = 'сводная таблица',\n",
    "                           index_col = [0, 1],\n",
    "                           usecols = [0, 1, 2, 3, 4])\n",
    "        df.drop(index='Все', inplace=True)\n",
    "        sums = df.groupby(level = 0).sum().drop(columns='Процент неликвидов')\n",
    "        df.drop(columns = ['Всего новинок', 'Всего неликвидов'], inplace=True)\n",
    "        df['Процент неликвидов'] /= 100\n",
    "        sums['ИТОГ % НЕЛИКВИДОВ'] = sums['Всего неликвидов'] / sums['Всего новинок']\n",
    "        sums.rename(columns={'Всего новинок':'ИТОГ ШТ. НОВИНОК',\n",
    "                             'Всего неликвидов':'ИТОГ ШТ. НЕЛИКВИДОВ'}, inplace=True)\n",
    "        sums['ИТОГ ШТ. НОВИНОК'] = sums['ИТОГ ШТ. НОВИНОК'].astype(str) + ' шт.'\n",
    "        sums['ИТОГ ШТ. НЕЛИКВИДОВ'] = sums['ИТОГ ШТ. НЕЛИКВИДОВ'].astype(str) + ' шт.'\n",
    "        sums = sums.stack().to_frame(name='Процент неликвидов')\n",
    "        sums['dummy'] = 1\n",
    "        period = pd.concat([df, sums])\n",
    "        period.rename(columns={'Процент неликвидов':name[-15:-8]}, inplace=True)\n",
    "        output = pd.concat([output, period], axis=1)\n",
    "    output['sorter'] = output['dummy'].sum(axis=1)\n",
    "    output = output.sort_values(by=['Редакция', 'sorter']).drop(columns=['dummy', 'sorter'])\n",
    "    return output.reset_index()"
   ]
  },
  {
   "cell_type": "code",
   "execution_count": 4,
   "id": "74a5ed89-37fa-438b-942c-fc0e4590d6ba",
   "metadata": {
    "colab": {
     "base_uri": "https://localhost:8080/"
    },
    "executionInfo": {
     "elapsed": 372,
     "status": "ok",
     "timestamp": 1667872533572,
     "user": {
      "displayName": "Антон Матизен",
      "userId": "15165996919912849590"
     },
     "user_tz": -180
    },
    "id": "Hs4nED0UMyx_",
    "outputId": "a2a55b39-9503-477d-c385-dca7588c2474"
   },
   "outputs": [],
   "source": [
    "# Write pivot table to the file\n",
    "output = create_report('input/АСТ/')\n",
    "# output = create_report('input/ЭКСМО/')\n",
    "writer = pd.ExcelWriter(f'out.xlsx', engine='xlsxwriter') \n",
    "output.to_excel(writer, index=False, sheet_name='сводная таблица', na_rep='')"
   ]
  },
  {
   "cell_type": "code",
   "execution_count": 5,
   "id": "86b61af6-57ae-41a3-8b4d-73d5d2c7d6e4",
   "metadata": {
    "colab": {
     "base_uri": "https://localhost:8080/"
    },
    "executionInfo": {
     "elapsed": 372,
     "status": "ok",
     "timestamp": 1667872533572,
     "user": {
      "displayName": "Антон Матизен",
      "userId": "15165996919912849590"
     },
     "user_tz": -180
    },
    "id": "Hs4nED0UMyx_",
    "outputId": "a2a55b39-9503-477d-c385-dca7588c2474"
   },
   "outputs": [],
   "source": [
    "# Init objects\n",
    "workbook = writer.book\n",
    "max_row, max_col = output.shape\n",
    "# editorials = ['100 - Редакция \"Комильфо\"',\n",
    "#               '101 - Редакция № 1',\n",
    "#               '102 - Редакция № 2',\n",
    "#               '120 - Редакция № 5']\n",
    "editorials = ['507 Департамент Планета Детства',\n",
    "              '509 Департамент Художественной литературы',\n",
    "              '510 Департамент Межиздат',\n",
    "              '511 Департамент Прикладная литература']"
   ]
  },
  {
   "cell_type": "code",
   "execution_count": 6,
   "id": "28667d3a-664a-4ad8-849a-0c801a923ef2",
   "metadata": {
    "colab": {
     "base_uri": "https://localhost:8080/"
    },
    "executionInfo": {
     "elapsed": 372,
     "status": "ok",
     "timestamp": 1667872533572,
     "user": {
      "displayName": "Антон Матизен",
      "userId": "15165996919912849590"
     },
     "user_tz": -180
    },
    "id": "Hs4nED0UMyx_",
    "outputId": "a2a55b39-9503-477d-c385-dca7588c2474"
   },
   "outputs": [
    {
     "data": {
      "text/plain": [
       "<xlsxwriter.chart_line.ChartLine at 0x1ed1f902860>"
      ]
     },
     "execution_count": 6,
     "metadata": {},
     "output_type": "execute_result"
    }
   ],
   "source": [
    "# Main chart \n",
    "# Get chart data\n",
    "chart1_data = output.loc[lambda df: df['Подразделение'].isin(['ИТОГ % НЕЛИКВИДОВ']), :]\n",
    "chart1_data = chart1_data.loc[lambda df: df['Редакция'].isin(editorials), :]\n",
    "\n",
    "# Add data to chart\n",
    "chart1 = workbook.add_chart({'type': 'line'})\n",
    "for i in chart1_data.index:\n",
    "    chart1.add_series({\n",
    "        'name': ['сводная таблица', i+1, 0, i+1, 0],\n",
    "        'values': ['сводная таблица', i+1, 2, i+1, max_col-1],\n",
    "        'marker': {'type': 'diamond', 'size': 5, 'fill': {'color': 'black'}},\n",
    "        'categories' : ['сводная таблица', 0, 2, 0, max_col-1]})\n",
    "    \n",
    "# Set chart params\n",
    "chart1.set_legend({'position':'bottom',\n",
    "                   'font': {'size': 9}})\n",
    "chart1.set_x_axis({'minor_gridlines': {'visible': True}})\n",
    "chart1.set_y_axis({'minor_gridlines': {'visible': True}})\n",
    "\n",
    "# Add chart to the list\n",
    "worksheet = workbook.add_chartsheet('Редакции')\n",
    "worksheet.set_chart(chart1)"
   ]
  },
  {
   "cell_type": "code",
   "execution_count": 7,
   "id": "eae8ae61-0ac8-4197-8cfc-a0481f20a624",
   "metadata": {},
   "outputs": [
    {
     "data": {
      "text/plain": [
       "<xlsxwriter.chart_line.ChartLine at 0x1ed201aeda0>"
      ]
     },
     "execution_count": 7,
     "metadata": {},
     "output_type": "execute_result"
    },
    {
     "data": {
      "text/plain": [
       "<xlsxwriter.chart_line.ChartLine at 0x1ed201ac280>"
      ]
     },
     "execution_count": 7,
     "metadata": {},
     "output_type": "execute_result"
    },
    {
     "data": {
      "text/plain": [
       "<xlsxwriter.chart_line.ChartLine at 0x1ed201ae530>"
      ]
     },
     "execution_count": 7,
     "metadata": {},
     "output_type": "execute_result"
    }
   ],
   "source": [
    "# Specific charts\n",
    "# Get chart data\n",
    "for i, edtr in enumerate(editorials):\n",
    "    if i == 0:\n",
    "        continue\n",
    "    elif i == 1:\n",
    "        part1 = output.loc[lambda df: df['Редакция'].isin([editorials[1]]), :]\n",
    "        part1.drop(part1.tail(3).index, inplace=True)\n",
    "        part2 = output.loc[lambda df: df['Редакция'].isin([editorials[0]]), :]\n",
    "        part2.drop(part2.tail(3).index, inplace=True)\n",
    "        spec_chart_data = pd.concat([part1, part2])\n",
    "    else:\n",
    "        spec_chart_data = output.loc[lambda df: df['Редакция'].isin([edtr]), :]\n",
    "        spec_chart_data.drop(spec_chart_data.tail(3).index, inplace=True)\n",
    "        \n",
    "# Add data to chart\n",
    "    spec_chart = workbook.add_chart({'type': 'line'})\n",
    "    for i in spec_chart_data.index:\n",
    "        spec_chart.add_series({\n",
    "            'name': ['сводная таблица', i+1, 1, i+1, 1],\n",
    "            'values': ['сводная таблица', i+1, 2, i+1, max_col-1],\n",
    "            'marker': {'type': 'diamond', 'size': 5, 'fill': {'color': 'black'}},\n",
    "            'categories' : ['сводная таблица', 0, 2, 0, max_col-1]})\n",
    "        \n",
    "# Set chart params\n",
    "    spec_chart.set_legend({'position':'bottom',\n",
    "                           'font': {'size': 8}})\n",
    "    spec_chart.set_x_axis({'minor_gridlines': {'visible': True}})\n",
    "    spec_chart.set_y_axis({'minor_gridlines': {'visible': True}})\n",
    "    worksheet = workbook.add_chartsheet(str(edtr)[:3])\n",
    "    worksheet.set_chart(spec_chart)"
   ]
  },
  {
   "cell_type": "code",
   "execution_count": 8,
   "id": "38d8116b-0c3f-4055-bc2a-4eae319403e9",
   "metadata": {
    "colab": {
     "base_uri": "https://localhost:8080/"
    },
    "executionInfo": {
     "elapsed": 372,
     "status": "ok",
     "timestamp": 1667872533572,
     "user": {
      "displayName": "Антон Матизен",
      "userId": "15165996919912849590"
     },
     "user_tz": -180
    },
    "id": "Hs4nED0UMyx_",
    "outputId": "a2a55b39-9503-477d-c385-dca7588c2474"
   },
   "outputs": [],
   "source": [
    "# Init formats\n",
    "bld_brdr = workbook.add_format({'bold': True,\n",
    "                                'border': 1})\n",
    "bld_brdr_clr = workbook.add_format({'bold': True,\n",
    "                                    'border': 1,\n",
    "                                    'bg_color': '#FABF8F',\n",
    "                                    'num_format': '0.0%'})\n",
    "bld_brdr_clr_l = workbook.add_format({'bold': True,\n",
    "                                      'border': 1,\n",
    "                                      'bg_color': '#FDE9D9',\n",
    "                                      'num_format': '0.0%'})\n",
    "perc = workbook.add_format({'num_format': '0.0%'})"
   ]
  },
  {
   "cell_type": "code",
   "execution_count": 9,
   "id": "cccdced1-4071-4387-9526-4319f4cc9c68",
   "metadata": {
    "colab": {
     "base_uri": "https://localhost:8080/"
    },
    "executionInfo": {
     "elapsed": 372,
     "status": "ok",
     "timestamp": 1667872533572,
     "user": {
      "displayName": "Антон Матизен",
      "userId": "15165996919912849590"
     },
     "user_tz": -180
    },
    "id": "Hs4nED0UMyx_",
    "outputId": "a2a55b39-9503-477d-c385-dca7588c2474"
   },
   "outputs": [
    {
     "data": {
      "text/plain": [
       "0"
      ]
     },
     "execution_count": 9,
     "metadata": {},
     "output_type": "execute_result"
    },
    {
     "data": {
      "text/plain": [
       "0"
      ]
     },
     "execution_count": 9,
     "metadata": {},
     "output_type": "execute_result"
    },
    {
     "data": {
      "text/plain": [
       "0"
      ]
     },
     "execution_count": 9,
     "metadata": {},
     "output_type": "execute_result"
    },
    {
     "data": {
      "text/plain": [
       "0"
      ]
     },
     "execution_count": 9,
     "metadata": {},
     "output_type": "execute_result"
    },
    {
     "data": {
      "text/plain": [
       "0"
      ]
     },
     "execution_count": 9,
     "metadata": {},
     "output_type": "execute_result"
    },
    {
     "data": {
      "text/plain": [
       "0"
      ]
     },
     "execution_count": 9,
     "metadata": {},
     "output_type": "execute_result"
    },
    {
     "data": {
      "text/plain": [
       "0"
      ]
     },
     "execution_count": 9,
     "metadata": {},
     "output_type": "execute_result"
    },
    {
     "data": {
      "text/plain": [
       "0"
      ]
     },
     "execution_count": 9,
     "metadata": {},
     "output_type": "execute_result"
    },
    {
     "data": {
      "text/plain": [
       "0"
      ]
     },
     "execution_count": 9,
     "metadata": {},
     "output_type": "execute_result"
    },
    {
     "data": {
      "text/plain": [
       "0"
      ]
     },
     "execution_count": 9,
     "metadata": {},
     "output_type": "execute_result"
    },
    {
     "data": {
      "text/plain": [
       "0"
      ]
     },
     "execution_count": 9,
     "metadata": {},
     "output_type": "execute_result"
    },
    {
     "data": {
      "text/plain": [
       "0"
      ]
     },
     "execution_count": 9,
     "metadata": {},
     "output_type": "execute_result"
    },
    {
     "data": {
      "text/plain": [
       "0"
      ]
     },
     "execution_count": 9,
     "metadata": {},
     "output_type": "execute_result"
    },
    {
     "data": {
      "text/plain": [
       "0"
      ]
     },
     "execution_count": 9,
     "metadata": {},
     "output_type": "execute_result"
    },
    {
     "data": {
      "text/plain": [
       "0"
      ]
     },
     "execution_count": 9,
     "metadata": {},
     "output_type": "execute_result"
    },
    {
     "data": {
      "text/plain": [
       "0"
      ]
     },
     "execution_count": 9,
     "metadata": {},
     "output_type": "execute_result"
    },
    {
     "data": {
      "text/plain": [
       "0"
      ]
     },
     "execution_count": 9,
     "metadata": {},
     "output_type": "execute_result"
    },
    {
     "data": {
      "text/plain": [
       "0"
      ]
     },
     "execution_count": 9,
     "metadata": {},
     "output_type": "execute_result"
    }
   ],
   "source": [
    "# Format cells\n",
    "worksheet = writer.sheets['сводная таблица']\n",
    "lengths = get_len(worksheet, output)\n",
    "itog_idx = output.loc[output['Подразделение'] == 'ИТОГ ШТ. НЕЛИКВИДОВ'].index\n",
    "main_itog_idx = chart1_data.index\n",
    "\n",
    "worksheet.set_column(2, max_col, 8, perc)\n",
    "worksheet.set_column('A:A', lengths[0], bld_brdr)\n",
    "worksheet.set_column('B:B', lengths[1], bld_brdr)\n",
    "\n",
    "for idx in itog_idx:\n",
    "    if idx+1 in main_itog_idx:\n",
    "        clr = bld_brdr_clr\n",
    "    else:\n",
    "        clr = bld_brdr_clr_l\n",
    "    worksheet.set_row(idx, None, clr)\n",
    "    worksheet.set_row(idx+1, None, clr)\n",
    "    worksheet.set_row(idx+2, None, clr)"
   ]
  },
  {
   "cell_type": "code",
   "execution_count": 10,
   "id": "0c05da0f-3780-4ad5-907f-4f8e0e8e18e5",
   "metadata": {
    "colab": {
     "base_uri": "https://localhost:8080/"
    },
    "executionInfo": {
     "elapsed": 372,
     "status": "ok",
     "timestamp": 1667872533572,
     "user": {
      "displayName": "Антон Матизен",
      "userId": "15165996919912849590"
     },
     "user_tz": -180
    },
    "id": "Hs4nED0UMyx_",
    "outputId": "a2a55b39-9503-477d-c385-dca7588c2474"
   },
   "outputs": [],
   "source": [
    "writer.close()"
   ]
  },
  {
   "cell_type": "code",
   "execution_count": null,
   "id": "94e84f77-063d-473e-bfdb-3580cc5373ef",
   "metadata": {},
   "outputs": [],
   "source": []
  }
 ],
 "metadata": {
  "colab": {
   "collapsed_sections": [],
   "provenance": [
    {
     "file_id": "https://github.com/matizzzen/EKSMO/blob/main/out.ipynb",
     "timestamp": 1667794547404
    }
   ]
  },
  "kernelspec": {
   "display_name": "Python 3 (ipykernel)",
   "language": "python",
   "name": "python3"
  },
  "language_info": {
   "codemirror_mode": {
    "name": "ipython",
    "version": 3
   },
   "file_extension": ".py",
   "mimetype": "text/x-python",
   "name": "python",
   "nbconvert_exporter": "python",
   "pygments_lexer": "ipython3",
   "version": "3.10.4"
  }
 },
 "nbformat": 4,
 "nbformat_minor": 5
}
