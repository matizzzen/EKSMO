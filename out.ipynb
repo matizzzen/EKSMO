{
 "cells": [
  {
   "cell_type": "code",
   "execution_count": 15,
   "id": "c121b3fa-36f2-4eb9-8582-7223f39d99a4",
   "metadata": {
    "executionInfo": {
     "elapsed": 524,
     "status": "ok",
     "timestamp": 1667872530862,
     "user": {
      "displayName": "Антон Матизен",
      "userId": "15165996919912849590"
     },
     "user_tz": -180
    },
    "id": "c121b3fa-36f2-4eb9-8582-7223f39d99a4"
   },
   "outputs": [],
   "source": [
    "# !pip install xlsxwriter\n",
    "import pandas as pd\n",
    "import numpy as np\n",
    "import glob\n",
    "from datetime import datetime as dt\n",
    "from random import randint\n",
    "from IPython.core.interactiveshell import InteractiveShell\n",
    "InteractiveShell.ast_node_interactivity = \"all\"\n",
    "pd.options.display.max_rows = 22\n",
    "pd.set_option('display.max_columns', None)\n"
   ]
  },
  {
   "cell_type": "code",
   "execution_count": 16,
   "id": "yCgf3vpTLQho",
   "metadata": {
    "colab": {
     "base_uri": "https://localhost:8080/"
    },
    "executionInfo": {
     "elapsed": 1970,
     "status": "ok",
     "timestamp": 1667872533201,
     "user": {
      "displayName": "Антон Матизен",
      "userId": "15165996919912849590"
     },
     "user_tz": -180
    },
    "id": "yCgf3vpTLQho",
    "outputId": "9afd3273-6166-4bc3-9899-8d18b1a2a99f"
   },
   "outputs": [],
   "source": [
    "# from google.colab import drive\n",
    "# drive.mount('/content/drive')"
   ]
  },
  {
   "cell_type": "code",
   "execution_count": 17,
   "id": "3f02e7f3-a90a-4b9b-b4cc-24dc067112e0",
   "metadata": {
    "executionInfo": {
     "elapsed": 2,
     "status": "ok",
     "timestamp": 1667872533201,
     "user": {
      "displayName": "Антон Матизен",
      "userId": "15165996919912849590"
     },
     "user_tz": -180
    },
    "id": "3f02e7f3-a90a-4b9b-b4cc-24dc067112e0"
   },
   "outputs": [],
   "source": [
    "def autosize_excel_columns(worksheet, df):\n",
    "  for idx, col in enumerate(df):\n",
    "    series = df[col]\n",
    "    max_len = max((\n",
    "      series.astype(str).map(len).max(),\n",
    "      len(str(series.name))))\n",
    "    worksheet.set_column(idx, idx, max_len)"
   ]
  },
  {
   "cell_type": "code",
   "execution_count": 18,
   "id": "b23c074c-f8b0-412a-8497-13a8da8778f5",
   "metadata": {
    "executionInfo": {
     "elapsed": 2,
     "status": "ok",
     "timestamp": 1667872533201,
     "user": {
      "displayName": "Антон Матизен",
      "userId": "15165996919912849590"
     },
     "user_tz": -180
    },
    "id": "b23c074c-f8b0-412a-8497-13a8da8778f5"
   },
   "outputs": [],
   "source": [
    "def create_report(path):\n",
    "    xlsx_list = sorted(glob.glob(f'{path}*.xlsx'))\n",
    "    output = pd.DataFrame()\n",
    "    for name in xlsx_list:\n",
    "        df = pd.read_excel(name, sheet_name = 'сводная таблица',\n",
    "                           index_col = [0, 1],\n",
    "                           usecols = [0, 1, 2, 3, 4])\n",
    "        df = df.fillna('0').drop(index='Все')\n",
    "        sums = df.groupby(level = 0).sum().drop(columns='Процент неликвидов')\n",
    "        df.drop(columns = ['Всего новинок', 'Всего неликвидов'], inplace=True)\n",
    "        sums['ИТОГ % НЕЛИКВИДОВ'] = sums['Всего неликвидов'] / sums['Всего новинок']\n",
    "        df['Процент неликвидов'] /= 100\n",
    "        sums.rename(columns={'Всего новинок':'ИТОГ ШТ. НОВИНОК',\n",
    "                             'Всего неликвидов':'ИТОГ ШТ. НЕЛИКВИДОВ'}, inplace=True)\n",
    "        sums['ИТОГ ШТ. НОВИНОК'] = sums['ИТОГ ШТ. НОВИНОК'].astype(str) + 'шт.'\n",
    "        sums['ИТОГ ШТ. НЕЛИКВИДОВ'] = sums['ИТОГ ШТ. НЕЛИКВИДОВ'].astype(str) + 'шт.'\n",
    "        sums = sums.stack().to_frame(name='Процент неликвидов')\n",
    "        sums['dummy'] = 1\n",
    "        period = pd.concat([df, sums])\n",
    "        period.rename(columns={'Процент неликвидов':name[-15:-8]}, inplace=True)\n",
    "        output = pd.concat([output, period], axis=1)\n",
    "    output['sorter'] = output['dummy'].sum(axis=1)\n",
    "    output = output.sort_values(by=['Редакция', 'sorter']).drop(columns=['dummy', 'sorter'])\n",
    "    return output.reset_index()"
   ]
  },
  {
   "cell_type": "code",
   "execution_count": 23,
   "id": "Hs4nED0UMyx_",
   "metadata": {
    "colab": {
     "base_uri": "https://localhost:8080/"
    },
    "executionInfo": {
     "elapsed": 372,
     "status": "ok",
     "timestamp": 1667872533572,
     "user": {
      "displayName": "Антон Матизен",
      "userId": "15165996919912849590"
     },
     "user_tz": -180
    },
    "id": "Hs4nED0UMyx_",
    "outputId": "a2a55b39-9503-477d-c385-dca7588c2474"
   },
   "outputs": [
    {
     "data": {
      "text/plain": [
       "0"
      ]
     },
     "execution_count": 23,
     "metadata": {},
     "output_type": "execute_result"
    },
    {
     "data": {
      "text/plain": [
       "0"
      ]
     },
     "execution_count": 23,
     "metadata": {},
     "output_type": "execute_result"
    },
    {
     "data": {
      "text/plain": [
       "0"
      ]
     },
     "execution_count": 23,
     "metadata": {},
     "output_type": "execute_result"
    },
    {
     "data": {
      "text/plain": [
       "0"
      ]
     },
     "execution_count": 23,
     "metadata": {},
     "output_type": "execute_result"
    },
    {
     "data": {
      "text/plain": [
       "<xlsxwriter.chart_line.ChartLine at 0x28b8101b820>"
      ]
     },
     "execution_count": 23,
     "metadata": {},
     "output_type": "execute_result"
    }
   ],
   "source": [
    "# Write pivot table to file\n",
    "output = create_report('input/ЭКСМО/')\n",
    "# output = create_report('drive/MyDrive/Colab Notebooks/input/ЭКСМО/')\n",
    "writer = pd.ExcelWriter(f'out.xlsx', engine='xlsxwriter') \n",
    "output.to_excel(writer, index=False, sheet_name='сводная таблица', na_rep='')\n",
    "\n",
    "# Autosize\n",
    "workbook = writer.book\n",
    "worksheet = writer.sheets['сводная таблица']\n",
    "autosize_excel_columns(worksheet, output)\n",
    "\n",
    "# Get graph data\n",
    "graph1_data = output.loc[lambda df: df['Подразделение'].isin(['ИТОГ % НЕЛИКВИДОВ']), :]\n",
    "graph1_data = graph1_data.loc[lambda df: df['Редакция'].isin(['100 - Редакция \"Комильфо\"',\n",
    "                                                              '101 - Редакция № 1',\n",
    "                                                              '102 - Редакция № 2',\n",
    "                                                              '120 - Редакция № 5']), :]\n",
    "# graph1_data = graph1_data.loc[lambda df: df['Редакция'].isin(['507 Департамент Планета Детства',\n",
    "#                                                 '509 Департамент Художественной литературы',\n",
    "#                                                 '510 Департамент Межиздат',\n",
    "#                                                 '511 Департамент Прикладная литература']), :]\n",
    "\n",
    "# cell formating\n",
    "\n",
    "bald_outline = workbook.add_format({'bold': True,\n",
    "                                    'border': 1})\n",
    "bald_outline_color = workbook.add_format({'bold': True,\n",
    "                                          'border': 1,\n",
    "                                          'bg_color': 'orange'})\n",
    "\n",
    "\n",
    "\n",
    "\n",
    "chart_red = workbook.add_chart({'type': 'line'})\n",
    "\n",
    "(max_row, max_col) = graph1_data.shape\n",
    "\n",
    "for i in graph1_data.index:\n",
    "    worksheet.set_row(i, None, bald_outline_color)\n",
    "    chart_red.add_series({\n",
    "        'name': ['сводная таблица', i+1, 0, i+1, 0],\n",
    "        'values': ['сводная таблица', i+1, 2, i+1, max_col-1],\n",
    "        'marker': {'type': 'diamond', 'size': 5, 'fill': {'color': 'black'}},\n",
    "        'categories' : ['сводная таблица', 0, 2, 0, max_col-1]})\n",
    "chart_red.set_legend({'position':'bottom',\n",
    "                      'font': {'size': 9}})\n",
    "\n",
    "worksheet = workbook.add_chartsheet('Редакции')\n",
    "worksheet.set_chart(chart_red)\n",
    "writer.close()"
   ]
  },
  {
   "cell_type": "code",
   "execution_count": null,
   "id": "EkHQqbFHVXIS",
   "metadata": {
    "executionInfo": {
     "elapsed": 2,
     "status": "ok",
     "timestamp": 1667872533572,
     "user": {
      "displayName": "Антон Матизен",
      "userId": "15165996919912849590"
     },
     "user_tz": -180
    },
    "id": "EkHQqbFHVXIS"
   },
   "outputs": [],
   "source": []
  }
 ],
 "metadata": {
  "colab": {
   "collapsed_sections": [],
   "provenance": [
    {
     "file_id": "https://github.com/matizzzen/EKSMO/blob/main/out.ipynb",
     "timestamp": 1667794547404
    }
   ]
  },
  "kernelspec": {
   "display_name": "Python 3 (ipykernel)",
   "language": "python",
   "name": "python3"
  },
  "language_info": {
   "codemirror_mode": {
    "name": "ipython",
    "version": 3
   },
   "file_extension": ".py",
   "mimetype": "text/x-python",
   "name": "python",
   "nbconvert_exporter": "python",
   "pygments_lexer": "ipython3",
   "version": "3.10.4"
  }
 },
 "nbformat": 4,
 "nbformat_minor": 5
}
