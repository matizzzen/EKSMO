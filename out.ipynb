{
 "cells": [
  {
   "cell_type": "code",
   "execution_count": 1,
   "id": "c121b3fa-36f2-4eb9-8582-7223f39d99a4",
   "metadata": {
    "executionInfo": {
     "elapsed": 524,
     "status": "ok",
     "timestamp": 1667872530862,
     "user": {
      "displayName": "Антон Матизен",
      "userId": "15165996919912849590"
     },
     "user_tz": -180
    },
    "id": "c121b3fa-36f2-4eb9-8582-7223f39d99a4"
   },
   "outputs": [],
   "source": [
    "import pandas as pd\n",
    "import numpy as np\n",
    "import glob\n",
    "from datetime import datetime as dt\n",
    "from random import randint\n",
    "from IPython.core.interactiveshell import InteractiveShell\n",
    "InteractiveShell.ast_node_interactivity = \"all\"\n",
    "pd.options.display.max_rows = 22\n",
    "pd.set_option('display.max_columns', None)\n",
    "pd.options.mode.chained_assignment = None"
   ]
  },
  {
   "cell_type": "code",
   "execution_count": 2,
   "id": "3f02e7f3-a90a-4b9b-b4cc-24dc067112e0",
   "metadata": {
    "executionInfo": {
     "elapsed": 2,
     "status": "ok",
     "timestamp": 1667872533201,
     "user": {
      "displayName": "Антон Матизен",
      "userId": "15165996919912849590"
     },
     "user_tz": -180
    },
    "id": "3f02e7f3-a90a-4b9b-b4cc-24dc067112e0"
   },
   "outputs": [],
   "source": [
    "def get_len(worksheet, df):\n",
    "    lengths = []\n",
    "    for idx, col in enumerate(df):\n",
    "        series = df[col]\n",
    "        max_len = max((series.astype(str).map(len).max(),\n",
    "                       len(str(series.name)))) + 2\n",
    "        lengths.append(max_len)\n",
    "    return lengths"
   ]
  },
  {
   "cell_type": "code",
   "execution_count": 3,
   "id": "b23c074c-f8b0-412a-8497-13a8da8778f5",
   "metadata": {
    "executionInfo": {
     "elapsed": 2,
     "status": "ok",
     "timestamp": 1667872533201,
     "user": {
      "displayName": "Антон Матизен",
      "userId": "15165996919912849590"
     },
     "user_tz": -180
    },
    "id": "b23c074c-f8b0-412a-8497-13a8da8778f5"
   },
   "outputs": [],
   "source": [
    "def create_report(path):\n",
    "    xlsx_list = sorted(glob.glob(f'{path}*.xlsx'))\n",
    "    output = pd.DataFrame()\n",
    "    for name in xlsx_list:\n",
    "        df = pd.read_excel(name, sheet_name = 'сводная таблица',\n",
    "                           index_col = [0, 1],\n",
    "                           usecols = [0, 1, 2, 3, 4])\n",
    "        df.drop(index='Все', inplace=True)\n",
    "        sums = df.groupby(level = 0).sum().drop(columns='Процент неликвидов')\n",
    "        df.drop(columns = ['Всего новинок', 'Всего неликвидов'], inplace=True)\n",
    "        df['Процент неликвидов'] /= 100\n",
    "        sums['ИТОГ % НЕЛИКВИДОВ'] = sums['Всего неликвидов'] / sums['Всего новинок']\n",
    "        sums.rename(columns={'Всего новинок':'ИТОГ ШТ. НОВИНОК',\n",
    "                             'Всего неликвидов':'ИТОГ ШТ. НЕЛИКВИДОВ'}, inplace=True)\n",
    "        sums['ИТОГ ШТ. НОВИНОК'] = sums['ИТОГ ШТ. НОВИНОК'].astype(str) + ' шт.'\n",
    "        sums['ИТОГ ШТ. НЕЛИКВИДОВ'] = sums['ИТОГ ШТ. НЕЛИКВИДОВ'].astype(str) + ' шт.'\n",
    "        sums = sums.stack().to_frame(name='Процент неликвидов')\n",
    "        sums['dummy'] = 1\n",
    "        period = pd.concat([df, sums])\n",
    "        period.rename(columns={'Процент неликвидов':name[-15:-8]}, inplace=True)\n",
    "        output = pd.concat([output, period], axis=1)\n",
    "    output['sorter'] = output['dummy'].sum(axis=1)\n",
    "    output = output.sort_values(by=['Редакция', 'sorter']).drop(columns=['dummy', 'sorter'])\n",
    "    return output.reset_index()"
   ]
  },
  {
   "cell_type": "code",
   "execution_count": 4,
   "id": "74a5ed89-37fa-438b-942c-fc0e4590d6ba",
   "metadata": {
    "colab": {
     "base_uri": "https://localhost:8080/"
    },
    "executionInfo": {
     "elapsed": 372,
     "status": "ok",
     "timestamp": 1667872533572,
     "user": {
      "displayName": "Антон Матизен",
      "userId": "15165996919912849590"
     },
     "user_tz": -180
    },
    "id": "Hs4nED0UMyx_",
    "outputId": "a2a55b39-9503-477d-c385-dca7588c2474"
   },
   "outputs": [
    {
     "data": {
      "text/html": [
       "<div>\n",
       "<style scoped>\n",
       "    .dataframe tbody tr th:only-of-type {\n",
       "        vertical-align: middle;\n",
       "    }\n",
       "\n",
       "    .dataframe tbody tr th {\n",
       "        vertical-align: top;\n",
       "    }\n",
       "\n",
       "    .dataframe thead th {\n",
       "        text-align: right;\n",
       "    }\n",
       "</style>\n",
       "<table border=\"1\" class=\"dataframe\">\n",
       "  <thead>\n",
       "    <tr style=\"text-align: right;\">\n",
       "      <th></th>\n",
       "      <th>Редакция</th>\n",
       "      <th>Подразделение</th>\n",
       "      <th>2021-11</th>\n",
       "      <th>2021-12</th>\n",
       "      <th>2022-01</th>\n",
       "      <th>2022-02</th>\n",
       "      <th>2022-03</th>\n",
       "      <th>2022-04</th>\n",
       "      <th>2022-05</th>\n",
       "      <th>2022-06</th>\n",
       "      <th>2022-07</th>\n",
       "      <th>2022-08</th>\n",
       "      <th>2022-09</th>\n",
       "      <th>2022-10</th>\n",
       "    </tr>\n",
       "  </thead>\n",
       "  <tbody>\n",
       "    <tr>\n",
       "      <th>0</th>\n",
       "      <td>507 Департамент Планета Детства</td>\n",
       "      <td>Аванта</td>\n",
       "      <td>0.22963</td>\n",
       "      <td>0.139535</td>\n",
       "      <td>0.110236</td>\n",
       "      <td>0.132812</td>\n",
       "      <td>0.145161</td>\n",
       "      <td>0.115702</td>\n",
       "      <td>0.119658</td>\n",
       "      <td>0.098214</td>\n",
       "      <td>0.117117</td>\n",
       "      <td>0.17757</td>\n",
       "      <td>0.237705</td>\n",
       "      <td>0.216783</td>\n",
       "    </tr>\n",
       "    <tr>\n",
       "      <th>1</th>\n",
       "      <td>507 Департамент Планета Детства</td>\n",
       "      <td>Астрель СПб. Малыш (Обучающая и развивающая ли...</td>\n",
       "      <td>0.268293</td>\n",
       "      <td>0.243243</td>\n",
       "      <td>0.297297</td>\n",
       "      <td>0.4</td>\n",
       "      <td>0.55</td>\n",
       "      <td>0.375</td>\n",
       "      <td>0.232558</td>\n",
       "      <td>0.307692</td>\n",
       "      <td>0.351351</td>\n",
       "      <td>0.384615</td>\n",
       "      <td>0.393939</td>\n",
       "      <td>0.317073</td>\n",
       "    </tr>\n",
       "    <tr>\n",
       "      <th>2</th>\n",
       "      <td>507 Департамент Планета Детства</td>\n",
       "      <td>Астрель СПб. Малыш (Художественная литература)</td>\n",
       "      <td>0.122807</td>\n",
       "      <td>0.127273</td>\n",
       "      <td>0.172414</td>\n",
       "      <td>0.166667</td>\n",
       "      <td>0.138462</td>\n",
       "      <td>0.186441</td>\n",
       "      <td>0.12069</td>\n",
       "      <td>0.137931</td>\n",
       "      <td>0.142857</td>\n",
       "      <td>0.232143</td>\n",
       "      <td>0.290909</td>\n",
       "      <td>0.287879</td>\n",
       "    </tr>\n",
       "    <tr>\n",
       "      <th>3</th>\n",
       "      <td>507 Департамент Планета Детства</td>\n",
       "      <td>Вилли-Винки</td>\n",
       "      <td>0.113208</td>\n",
       "      <td>0.092784</td>\n",
       "      <td>0.07</td>\n",
       "      <td>0.132653</td>\n",
       "      <td>0.13</td>\n",
       "      <td>0.19</td>\n",
       "      <td>0.075472</td>\n",
       "      <td>0.12381</td>\n",
       "      <td>0.212121</td>\n",
       "      <td>0.330097</td>\n",
       "      <td>0.4</td>\n",
       "      <td>0.408163</td>\n",
       "    </tr>\n",
       "    <tr>\n",
       "      <th>4</th>\n",
       "      <td>507 Департамент Планета Детства</td>\n",
       "      <td>Интеджер. Аванта</td>\n",
       "      <td>0.068182</td>\n",
       "      <td>0.051282</td>\n",
       "      <td>0.055556</td>\n",
       "      <td>0.078947</td>\n",
       "      <td>0.081081</td>\n",
       "      <td>0.02381</td>\n",
       "      <td>0.028571</td>\n",
       "      <td>0.078947</td>\n",
       "      <td>0.05</td>\n",
       "      <td>0.06383</td>\n",
       "      <td>0.104167</td>\n",
       "      <td>0.085106</td>\n",
       "    </tr>\n",
       "    <tr>\n",
       "      <th>...</th>\n",
       "      <td>...</td>\n",
       "      <td>...</td>\n",
       "      <td>...</td>\n",
       "      <td>...</td>\n",
       "      <td>...</td>\n",
       "      <td>...</td>\n",
       "      <td>...</td>\n",
       "      <td>...</td>\n",
       "      <td>...</td>\n",
       "      <td>...</td>\n",
       "      <td>...</td>\n",
       "      <td>...</td>\n",
       "      <td>...</td>\n",
       "      <td>...</td>\n",
       "    </tr>\n",
       "    <tr>\n",
       "      <th>60</th>\n",
       "      <td>511 Департамент Прикладная литература и межизд...</td>\n",
       "      <td>Кладезь</td>\n",
       "      <td>NaN</td>\n",
       "      <td>NaN</td>\n",
       "      <td>NaN</td>\n",
       "      <td>NaN</td>\n",
       "      <td>NaN</td>\n",
       "      <td>NaN</td>\n",
       "      <td>NaN</td>\n",
       "      <td>NaN</td>\n",
       "      <td>NaN</td>\n",
       "      <td>NaN</td>\n",
       "      <td>NaN</td>\n",
       "      <td>0.201149</td>\n",
       "    </tr>\n",
       "    <tr>\n",
       "      <th>61</th>\n",
       "      <td>511 Департамент Прикладная литература и межизд...</td>\n",
       "      <td>ОГИЗ</td>\n",
       "      <td>NaN</td>\n",
       "      <td>NaN</td>\n",
       "      <td>NaN</td>\n",
       "      <td>NaN</td>\n",
       "      <td>NaN</td>\n",
       "      <td>NaN</td>\n",
       "      <td>NaN</td>\n",
       "      <td>NaN</td>\n",
       "      <td>NaN</td>\n",
       "      <td>NaN</td>\n",
       "      <td>NaN</td>\n",
       "      <td>0.356164</td>\n",
       "    </tr>\n",
       "    <tr>\n",
       "      <th>62</th>\n",
       "      <td>511 Департамент Прикладная литература и межизд...</td>\n",
       "      <td>ИТОГ ШТ. НОВИНОК</td>\n",
       "      <td>NaN</td>\n",
       "      <td>NaN</td>\n",
       "      <td>NaN</td>\n",
       "      <td>NaN</td>\n",
       "      <td>NaN</td>\n",
       "      <td>NaN</td>\n",
       "      <td>NaN</td>\n",
       "      <td>NaN</td>\n",
       "      <td>NaN</td>\n",
       "      <td>NaN</td>\n",
       "      <td>NaN</td>\n",
       "      <td>1287 шт.</td>\n",
       "    </tr>\n",
       "    <tr>\n",
       "      <th>63</th>\n",
       "      <td>511 Департамент Прикладная литература и межизд...</td>\n",
       "      <td>ИТОГ ШТ. НЕЛИКВИДОВ</td>\n",
       "      <td>NaN</td>\n",
       "      <td>NaN</td>\n",
       "      <td>NaN</td>\n",
       "      <td>NaN</td>\n",
       "      <td>NaN</td>\n",
       "      <td>NaN</td>\n",
       "      <td>NaN</td>\n",
       "      <td>NaN</td>\n",
       "      <td>NaN</td>\n",
       "      <td>NaN</td>\n",
       "      <td>NaN</td>\n",
       "      <td>400 шт.</td>\n",
       "    </tr>\n",
       "    <tr>\n",
       "      <th>64</th>\n",
       "      <td>511 Департамент Прикладная литература и межизд...</td>\n",
       "      <td>ИТОГ % НЕЛИКВИДОВ</td>\n",
       "      <td>NaN</td>\n",
       "      <td>NaN</td>\n",
       "      <td>NaN</td>\n",
       "      <td>NaN</td>\n",
       "      <td>NaN</td>\n",
       "      <td>NaN</td>\n",
       "      <td>NaN</td>\n",
       "      <td>NaN</td>\n",
       "      <td>NaN</td>\n",
       "      <td>NaN</td>\n",
       "      <td>NaN</td>\n",
       "      <td>0.3108</td>\n",
       "    </tr>\n",
       "  </tbody>\n",
       "</table>\n",
       "<p>65 rows × 14 columns</p>\n",
       "</div>"
      ],
      "text/plain": [
       "                                             Редакция  \\\n",
       "0                     507 Департамент Планета Детства   \n",
       "1                     507 Департамент Планета Детства   \n",
       "2                     507 Департамент Планета Детства   \n",
       "3                     507 Департамент Планета Детства   \n",
       "4                     507 Департамент Планета Детства   \n",
       "..                                                ...   \n",
       "60  511 Департамент Прикладная литература и межизд...   \n",
       "61  511 Департамент Прикладная литература и межизд...   \n",
       "62  511 Департамент Прикладная литература и межизд...   \n",
       "63  511 Департамент Прикладная литература и межизд...   \n",
       "64  511 Департамент Прикладная литература и межизд...   \n",
       "\n",
       "                                        Подразделение   2021-11   2021-12  \\\n",
       "0                                              Аванта   0.22963  0.139535   \n",
       "1   Астрель СПб. Малыш (Обучающая и развивающая ли...  0.268293  0.243243   \n",
       "2      Астрель СПб. Малыш (Художественная литература)  0.122807  0.127273   \n",
       "3                                         Вилли-Винки  0.113208  0.092784   \n",
       "4                                    Интеджер. Аванта  0.068182  0.051282   \n",
       "..                                                ...       ...       ...   \n",
       "60                                            Кладезь       NaN       NaN   \n",
       "61                                               ОГИЗ       NaN       NaN   \n",
       "62                                   ИТОГ ШТ. НОВИНОК       NaN       NaN   \n",
       "63                                ИТОГ ШТ. НЕЛИКВИДОВ       NaN       NaN   \n",
       "64                                  ИТОГ % НЕЛИКВИДОВ       NaN       NaN   \n",
       "\n",
       "     2022-01   2022-02   2022-03   2022-04   2022-05   2022-06   2022-07  \\\n",
       "0   0.110236  0.132812  0.145161  0.115702  0.119658  0.098214  0.117117   \n",
       "1   0.297297       0.4      0.55     0.375  0.232558  0.307692  0.351351   \n",
       "2   0.172414  0.166667  0.138462  0.186441   0.12069  0.137931  0.142857   \n",
       "3       0.07  0.132653      0.13      0.19  0.075472   0.12381  0.212121   \n",
       "4   0.055556  0.078947  0.081081   0.02381  0.028571  0.078947      0.05   \n",
       "..       ...       ...       ...       ...       ...       ...       ...   \n",
       "60       NaN       NaN       NaN       NaN       NaN       NaN       NaN   \n",
       "61       NaN       NaN       NaN       NaN       NaN       NaN       NaN   \n",
       "62       NaN       NaN       NaN       NaN       NaN       NaN       NaN   \n",
       "63       NaN       NaN       NaN       NaN       NaN       NaN       NaN   \n",
       "64       NaN       NaN       NaN       NaN       NaN       NaN       NaN   \n",
       "\n",
       "     2022-08   2022-09   2022-10  \n",
       "0    0.17757  0.237705  0.216783  \n",
       "1   0.384615  0.393939  0.317073  \n",
       "2   0.232143  0.290909  0.287879  \n",
       "3   0.330097       0.4  0.408163  \n",
       "4    0.06383  0.104167  0.085106  \n",
       "..       ...       ...       ...  \n",
       "60       NaN       NaN  0.201149  \n",
       "61       NaN       NaN  0.356164  \n",
       "62       NaN       NaN  1287 шт.  \n",
       "63       NaN       NaN   400 шт.  \n",
       "64       NaN       NaN    0.3108  \n",
       "\n",
       "[65 rows x 14 columns]"
      ]
     },
     "execution_count": 4,
     "metadata": {},
     "output_type": "execute_result"
    }
   ],
   "source": [
    "# Write pivot table to file\n",
    "output = create_report('input/АСТ/')\n",
    "output\n",
    "writer = pd.ExcelWriter(f'omut.xlsx', engine='xlsxwriter') \n",
    "output.to_excel(writer, index=False, sheet_name='сводная таблица', na_rep='')"
   ]
  },
  {
   "cell_type": "code",
   "execution_count": 41,
   "id": "86b61af6-57ae-41a3-8b4d-73d5d2c7d6e4",
   "metadata": {
    "colab": {
     "base_uri": "https://localhost:8080/"
    },
    "executionInfo": {
     "elapsed": 372,
     "status": "ok",
     "timestamp": 1667872533572,
     "user": {
      "displayName": "Антон Матизен",
      "userId": "15165996919912849590"
     },
     "user_tz": -180
    },
    "id": "Hs4nED0UMyx_",
    "outputId": "a2a55b39-9503-477d-c385-dca7588c2474"
   },
   "outputs": [],
   "source": [
    "# Init objects\n",
    "workbook = writer.book\n",
    "max_row, max_col = output.shape\n",
    "# editorials = ['100 - Редакция \"Комильфо\"',\n",
    "#               '101 - Редакция № 1',\n",
    "#               '102 - Редакция № 2',\n",
    "#               '120 - Редакция № 5']\n",
    "editorials = ['507 Департамент Планета Детства',\n",
    "              '509 Департамент Художественной литературы',\n",
    "              '510 Департамент Межиздат',\n",
    "              '511 Департамент Прикладная литература']"
   ]
  },
  {
   "cell_type": "code",
   "execution_count": 42,
   "id": "28667d3a-664a-4ad8-849a-0c801a923ef2",
   "metadata": {
    "colab": {
     "base_uri": "https://localhost:8080/"
    },
    "executionInfo": {
     "elapsed": 372,
     "status": "ok",
     "timestamp": 1667872533572,
     "user": {
      "displayName": "Антон Матизен",
      "userId": "15165996919912849590"
     },
     "user_tz": -180
    },
    "id": "Hs4nED0UMyx_",
    "outputId": "a2a55b39-9503-477d-c385-dca7588c2474"
   },
   "outputs": [
    {
     "data": {
      "text/plain": [
       "<xlsxwriter.chart_line.ChartLine at 0x279999f6920>"
      ]
     },
     "execution_count": 42,
     "metadata": {},
     "output_type": "execute_result"
    }
   ],
   "source": [
    "# Main chart \n",
    "# Get chart data\n",
    "chart1_data = output.loc[lambda df: df['Подразделение'].isin(['ИТОГ % НЕЛИКВИДОВ']), :]\n",
    "chart1_data = chart1_data.loc[lambda df: df['Редакция'].isin(editorials), :]\n",
    "\n",
    "chart1 = workbook.add_chart({'type': 'line'})\n",
    "for i in chart1_data.index:\n",
    "    chart1.add_series({\n",
    "        'name': ['сводная таблица', i+1, 0, i+1, 0],\n",
    "        'values': ['сводная таблица', i+1, 2, i+1, max_col-1],\n",
    "        'marker': {'type': 'diamond', 'size': 5, 'fill': {'color': 'black'}},\n",
    "        'categories' : ['сводная таблица', 0, 2, 0, max_col-1]})\n",
    "chart1.set_legend({'position':'bottom',\n",
    "                   'font': {'size': 9}})\n",
    "chart1.set_x_axis({'minor_gridlines': {'visible': True}})\n",
    "chart1.set_y_axis({'minor_gridlines': {'visible': True}})\n",
    "worksheet = workbook.add_chartsheet('Редакции')\n",
    "worksheet.set_chart(chart1)"
   ]
  },
  {
   "cell_type": "code",
   "execution_count": 43,
   "id": "eae8ae61-0ac8-4197-8cfc-a0481f20a624",
   "metadata": {},
   "outputs": [
    {
     "data": {
      "text/plain": [
       "<xlsxwriter.chart_line.ChartLine at 0x2799ea81300>"
      ]
     },
     "execution_count": 43,
     "metadata": {},
     "output_type": "execute_result"
    },
    {
     "data": {
      "text/plain": [
       "<xlsxwriter.chart_line.ChartLine at 0x279969c08e0>"
      ]
     },
     "execution_count": 43,
     "metadata": {},
     "output_type": "execute_result"
    },
    {
     "data": {
      "text/plain": [
       "<xlsxwriter.chart_line.ChartLine at 0x2799b28c3d0>"
      ]
     },
     "execution_count": 43,
     "metadata": {},
     "output_type": "execute_result"
    }
   ],
   "source": [
    "# Specific charts\n",
    "# Get chart data\n",
    "for i, edtr in enumerate(editorials):\n",
    "    if i == 0:\n",
    "        continue\n",
    "    elif i == 1:\n",
    "        part1 = output.loc[lambda df: df['Редакция'].isin([editorials[1]]), :]\n",
    "        part1.drop(part1.tail(3).index, inplace=True)\n",
    "        part2 = output.loc[lambda df: df['Редакция'].isin([editorials[0]]), :]\n",
    "        part2.drop(part2.tail(3).index, inplace=True)\n",
    "        spec_chart_data = pd.concat([part1, part2])\n",
    "    else:\n",
    "        spec_chart_data = output.loc[lambda df: df['Редакция'].isin([edtr]), :]\n",
    "        spec_chart_data.drop(spec_chart_data.tail(3).index, inplace=True)\n",
    "    spec_chart = workbook.add_chart({'type': 'line'})\n",
    "    for i in spec_chart_data.index:\n",
    "        spec_chart.add_series({\n",
    "            'name': ['сводная таблица', i+1, 1, i+1, 1],\n",
    "            'values': ['сводная таблица', i+1, 2, i+1, max_col-1],\n",
    "            'marker': {'type': 'diamond', 'size': 5, 'fill': {'color': 'black'}},\n",
    "            'categories' : ['сводная таблица', 0, 2, 0, max_col-1]})\n",
    "    spec_chart.set_legend({'position':'bottom',\n",
    "                           'font': {'size': 8}})\n",
    "    spec_chart.set_x_axis({'minor_gridlines': {'visible': True}})\n",
    "    spec_chart.set_y_axis({'minor_gridlines': {'visible': True}})\n",
    "    worksheet = workbook.add_chartsheet(str(edtr)[:3])\n",
    "    worksheet.set_chart(spec_chart)"
   ]
  },
  {
   "cell_type": "code",
   "execution_count": 44,
   "id": "38d8116b-0c3f-4055-bc2a-4eae319403e9",
   "metadata": {
    "colab": {
     "base_uri": "https://localhost:8080/"
    },
    "executionInfo": {
     "elapsed": 372,
     "status": "ok",
     "timestamp": 1667872533572,
     "user": {
      "displayName": "Антон Матизен",
      "userId": "15165996919912849590"
     },
     "user_tz": -180
    },
    "id": "Hs4nED0UMyx_",
    "outputId": "a2a55b39-9503-477d-c385-dca7588c2474"
   },
   "outputs": [],
   "source": [
    "# Init formats\n",
    "bld_brdr = workbook.add_format({'bold': True,\n",
    "                                'border': 1})\n",
    "bld_brdr_clr = workbook.add_format({'bold': True,\n",
    "                                     'border': 1,\n",
    "                                     'bg_color': '#FABF8F',\n",
    "                                     'num_format': '0.0%'})\n",
    "bld_brdr_clr_l = workbook.add_format({'bold': True,\n",
    "                                     'border': 1,\n",
    "                                     'bg_color': '#FDE9D9',\n",
    "                                     'num_format': '0.0%'})\n",
    "perc = workbook.add_format({'num_format': '0.0%'})"
   ]
  },
  {
   "cell_type": "code",
   "execution_count": 45,
   "id": "cccdced1-4071-4387-9526-4319f4cc9c68",
   "metadata": {
    "colab": {
     "base_uri": "https://localhost:8080/"
    },
    "executionInfo": {
     "elapsed": 372,
     "status": "ok",
     "timestamp": 1667872533572,
     "user": {
      "displayName": "Антон Матизен",
      "userId": "15165996919912849590"
     },
     "user_tz": -180
    },
    "id": "Hs4nED0UMyx_",
    "outputId": "a2a55b39-9503-477d-c385-dca7588c2474"
   },
   "outputs": [
    {
     "data": {
      "text/plain": [
       "0"
      ]
     },
     "execution_count": 45,
     "metadata": {},
     "output_type": "execute_result"
    },
    {
     "data": {
      "text/plain": [
       "0"
      ]
     },
     "execution_count": 45,
     "metadata": {},
     "output_type": "execute_result"
    },
    {
     "data": {
      "text/plain": [
       "0"
      ]
     },
     "execution_count": 45,
     "metadata": {},
     "output_type": "execute_result"
    },
    {
     "data": {
      "text/plain": [
       "0"
      ]
     },
     "execution_count": 45,
     "metadata": {},
     "output_type": "execute_result"
    },
    {
     "data": {
      "text/plain": [
       "0"
      ]
     },
     "execution_count": 45,
     "metadata": {},
     "output_type": "execute_result"
    },
    {
     "data": {
      "text/plain": [
       "0"
      ]
     },
     "execution_count": 45,
     "metadata": {},
     "output_type": "execute_result"
    },
    {
     "data": {
      "text/plain": [
       "0"
      ]
     },
     "execution_count": 45,
     "metadata": {},
     "output_type": "execute_result"
    },
    {
     "data": {
      "text/plain": [
       "0"
      ]
     },
     "execution_count": 45,
     "metadata": {},
     "output_type": "execute_result"
    },
    {
     "data": {
      "text/plain": [
       "0"
      ]
     },
     "execution_count": 45,
     "metadata": {},
     "output_type": "execute_result"
    },
    {
     "data": {
      "text/plain": [
       "0"
      ]
     },
     "execution_count": 45,
     "metadata": {},
     "output_type": "execute_result"
    },
    {
     "data": {
      "text/plain": [
       "0"
      ]
     },
     "execution_count": 45,
     "metadata": {},
     "output_type": "execute_result"
    },
    {
     "data": {
      "text/plain": [
       "0"
      ]
     },
     "execution_count": 45,
     "metadata": {},
     "output_type": "execute_result"
    },
    {
     "data": {
      "text/plain": [
       "0"
      ]
     },
     "execution_count": 45,
     "metadata": {},
     "output_type": "execute_result"
    },
    {
     "data": {
      "text/plain": [
       "0"
      ]
     },
     "execution_count": 45,
     "metadata": {},
     "output_type": "execute_result"
    },
    {
     "data": {
      "text/plain": [
       "0"
      ]
     },
     "execution_count": 45,
     "metadata": {},
     "output_type": "execute_result"
    },
    {
     "data": {
      "text/plain": [
       "0"
      ]
     },
     "execution_count": 45,
     "metadata": {},
     "output_type": "execute_result"
    },
    {
     "data": {
      "text/plain": [
       "0"
      ]
     },
     "execution_count": 45,
     "metadata": {},
     "output_type": "execute_result"
    },
    {
     "data": {
      "text/plain": [
       "0"
      ]
     },
     "execution_count": 45,
     "metadata": {},
     "output_type": "execute_result"
    }
   ],
   "source": [
    "# Cell formating\n",
    "worksheet = writer.sheets['сводная таблица']\n",
    "lens = get_len(worksheet, output)\n",
    "itog_idx = output.loc[output['Подразделение'] == 'ИТОГ ШТ. НЕЛИКВИДОВ'].index\n",
    "main_itog_idx = chart1_data.index\n",
    "worksheet.set_column(2, max_col, 8, perc)\n",
    "worksheet.set_column('A:A', lens[0], bld_brdr)\n",
    "worksheet.set_column('B:B', lens[1], bld_brdr)\n",
    "for idx in itog_idx:\n",
    "    if idx+1 in main_itog_idx:\n",
    "        clr = bld_brdr_clr\n",
    "    else:\n",
    "        clr = bld_brdr_clr_l\n",
    "    worksheet.set_row(idx, None, clr)\n",
    "    worksheet.set_row(idx+1, None, clr)\n",
    "    worksheet.set_row(idx+2, None, clr)"
   ]
  },
  {
   "cell_type": "code",
   "execution_count": 5,
   "id": "0c05da0f-3780-4ad5-907f-4f8e0e8e18e5",
   "metadata": {
    "colab": {
     "base_uri": "https://localhost:8080/"
    },
    "executionInfo": {
     "elapsed": 372,
     "status": "ok",
     "timestamp": 1667872533572,
     "user": {
      "displayName": "Антон Матизен",
      "userId": "15165996919912849590"
     },
     "user_tz": -180
    },
    "id": "Hs4nED0UMyx_",
    "outputId": "a2a55b39-9503-477d-c385-dca7588c2474"
   },
   "outputs": [],
   "source": [
    "writer.close()"
   ]
  },
  {
   "cell_type": "code",
   "execution_count": null,
   "id": "94e84f77-063d-473e-bfdb-3580cc5373ef",
   "metadata": {},
   "outputs": [],
   "source": []
  }
 ],
 "metadata": {
  "colab": {
   "collapsed_sections": [],
   "provenance": [
    {
     "file_id": "https://github.com/matizzzen/EKSMO/blob/main/out.ipynb",
     "timestamp": 1667794547404
    }
   ]
  },
  "kernelspec": {
   "display_name": "Python 3 (ipykernel)",
   "language": "python",
   "name": "python3"
  },
  "language_info": {
   "codemirror_mode": {
    "name": "ipython",
    "version": 3
   },
   "file_extension": ".py",
   "mimetype": "text/x-python",
   "name": "python",
   "nbconvert_exporter": "python",
   "pygments_lexer": "ipython3",
   "version": "3.10.4"
  }
 },
 "nbformat": 4,
 "nbformat_minor": 5
}
