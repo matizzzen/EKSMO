{
 "cells": [
  {
   "cell_type": "code",
   "execution_count": 32,
   "id": "c121b3fa-36f2-4eb9-8582-7223f39d99a4",
   "metadata": {
    "id": "c121b3fa-36f2-4eb9-8582-7223f39d99a4"
   },
   "outputs": [],
   "source": [
    "# !pip install xlsxwriter\n",
    "import pandas as pd\n",
    "import numpy as np\n",
    "import glob\n",
    "from IPython.core.interactiveshell import InteractiveShell\n",
    "InteractiveShell.ast_node_interactivity = \"all\"\n",
    "pd.options.display.max_rows = 15\n",
    "pd.set_option('display.max_columns', None)\n"
   ]
  },
  {
   "cell_type": "code",
   "execution_count": 33,
   "id": "3f02e7f3-a90a-4b9b-b4cc-24dc067112e0",
   "metadata": {
    "id": "3f02e7f3-a90a-4b9b-b4cc-24dc067112e0"
   },
   "outputs": [],
   "source": [
    "def autosize_excel_columns(worksheet, df):\n",
    "  autosize_excel_columns_df(worksheet, df.index.to_frame())\n",
    "  autosize_excel_columns_df(worksheet, df, offset=df.index.nlevels)\n",
    "\n",
    "def autosize_excel_columns_df(worksheet, df, offset=0):\n",
    "  for idx, col in enumerate(df):\n",
    "    series = df[col]\n",
    "    max_len = max((\n",
    "      series.astype(str).map(len).max(),\n",
    "      len(str(series.name))\n",
    "    )) + 1\n",
    "    worksheet.set_column(idx+offset, idx+offset, max_len)"
   ]
  },
  {
   "cell_type": "code",
   "execution_count": 34,
   "id": "b23c074c-f8b0-412a-8497-13a8da8778f5",
   "metadata": {
    "id": "b23c074c-f8b0-412a-8497-13a8da8778f5"
   },
   "outputs": [],
   "source": [
    "def create_report(path):\n",
    "    xlsx_list = sorted(glob.glob(f'{path}*.xlsx'))\n",
    "    output = pd.DataFrame()\n",
    "    for name in xlsx_list:\n",
    "        df = pd.read_excel(name, sheet_name = 'сводная таблица',\n",
    "                           index_col = [0, 1],\n",
    "                           usecols = [0, 1, 2, 3, 4])\n",
    "        df.drop(index='Все', inplace=True)\n",
    "        sums = df.groupby(level = 0).sum().drop(columns='Процент неликвидов')\n",
    "        df.drop(columns = ['Всего новинок', 'Всего неликвидов'], inplace=True)\n",
    "        sums['ИТОГ % НЕЛИКВИДОВ'] = sums['Всего неликвидов'] / sums['Всего новинок'] * 100\n",
    "        sums.rename(columns={'Всего новинок':'ИТОГ ШТ. НОВИНОК', 'Всего неликвидов':'ИТОГ ШТ. НЕЛИКВИДОВ'}, inplace=True)\n",
    "        sums = sums.stack().to_frame(name='Процент неликвидов')\n",
    "        sums['dummy'] = 1\n",
    "        period = pd.concat([df, sums])\n",
    "        period.rename(columns={'Процент неликвидов':name[-15:-8]}, inplace=True)\n",
    "        output = pd.concat([output, period], axis=1)\n",
    "    output['sorter'] = output['dummy'].sum(axis=1)\n",
    "    output = output.sort_values(by=['Редакция', 'sorter']).drop(columns=['dummy', 'sorter'])\n",
    "    return output"
   ]
  },
  {
   "cell_type": "code",
   "execution_count": 35,
   "id": "01960195-6b14-475e-a505-9e51eae6fe4d",
   "metadata": {
    "id": "01960195-6b14-475e-a505-9e51eae6fe4d"
   },
   "outputs": [],
   "source": [
    "def write_output(output, name='output.xlsx'):\n",
    "# Write pivot table to file\n",
    "    writer = pd.ExcelWriter(name , engine='xlsxwriter') \n",
    "    output.to_excel(writer, sheet_name='сводная таблица', na_rep='')\n",
    "    worksheet = writer.sheets['сводная таблица']\n",
    "    autosize_excel_columns(worksheet, output)\n",
    "# Write graphs to file\n",
    "    writer.close()\n",
    "    print('done')"
   ]
  },
  {
   "cell_type": "code",
   "execution_count": 50,
   "id": "e0c7070e-362a-43e7-a679-4673f799315f",
   "metadata": {},
   "outputs": [
    {
     "data": {
      "text/html": [
       "<div>\n",
       "<style scoped>\n",
       "    .dataframe tbody tr th:only-of-type {\n",
       "        vertical-align: middle;\n",
       "    }\n",
       "\n",
       "    .dataframe tbody tr th {\n",
       "        vertical-align: top;\n",
       "    }\n",
       "\n",
       "    .dataframe thead th {\n",
       "        text-align: right;\n",
       "    }\n",
       "</style>\n",
       "<table border=\"1\" class=\"dataframe\">\n",
       "  <thead>\n",
       "    <tr style=\"text-align: right;\">\n",
       "      <th></th>\n",
       "      <th>Редакция</th>\n",
       "      <th>Подразделение</th>\n",
       "      <th>2021-11</th>\n",
       "      <th>2021-12</th>\n",
       "      <th>2022-01</th>\n",
       "      <th>2022-02</th>\n",
       "      <th>2022-03</th>\n",
       "      <th>2022-04</th>\n",
       "      <th>2022-05</th>\n",
       "      <th>2022-06</th>\n",
       "      <th>2022-07</th>\n",
       "      <th>2022-08</th>\n",
       "      <th>2022-09</th>\n",
       "      <th>2022-10</th>\n",
       "    </tr>\n",
       "  </thead>\n",
       "  <tbody>\n",
       "    <tr>\n",
       "      <th>3</th>\n",
       "      <td>100 - Редакция \"Комильфо\"</td>\n",
       "      <td>ИТОГ % НЕЛИКВИДОВ</td>\n",
       "      <td>23.783784</td>\n",
       "      <td>14.728682</td>\n",
       "      <td>13.028169</td>\n",
       "      <td>16.666667</td>\n",
       "      <td>15.053763</td>\n",
       "      <td>15.384615</td>\n",
       "      <td>16.838488</td>\n",
       "      <td>21.107266</td>\n",
       "      <td>19.536424</td>\n",
       "      <td>17.000000</td>\n",
       "      <td>15.017065</td>\n",
       "      <td>14.878893</td>\n",
       "    </tr>\n",
       "    <tr>\n",
       "      <th>21</th>\n",
       "      <td>101 - Редакция № 1</td>\n",
       "      <td>ИТОГ % НЕЛИКВИДОВ</td>\n",
       "      <td>12.500000</td>\n",
       "      <td>11.111111</td>\n",
       "      <td>9.087719</td>\n",
       "      <td>10.222851</td>\n",
       "      <td>12.270804</td>\n",
       "      <td>15.005284</td>\n",
       "      <td>12.008578</td>\n",
       "      <td>13.179396</td>\n",
       "      <td>14.081996</td>\n",
       "      <td>17.433853</td>\n",
       "      <td>19.579405</td>\n",
       "      <td>23.424408</td>\n",
       "    </tr>\n",
       "    <tr>\n",
       "      <th>48</th>\n",
       "      <td>102 - Редакция № 2</td>\n",
       "      <td>ИТОГ % НЕЛИКВИДОВ</td>\n",
       "      <td>20.958084</td>\n",
       "      <td>16.256158</td>\n",
       "      <td>16.624896</td>\n",
       "      <td>20.909091</td>\n",
       "      <td>24.152192</td>\n",
       "      <td>27.162490</td>\n",
       "      <td>23.393740</td>\n",
       "      <td>26.109215</td>\n",
       "      <td>27.512777</td>\n",
       "      <td>31.921824</td>\n",
       "      <td>32.801277</td>\n",
       "      <td>33.044847</td>\n",
       "    </tr>\n",
       "    <tr>\n",
       "      <th>80</th>\n",
       "      <td>120 - Редакция № 5</td>\n",
       "      <td>ИТОГ % НЕЛИКВИДОВ</td>\n",
       "      <td>18.953145</td>\n",
       "      <td>16.330039</td>\n",
       "      <td>15.627669</td>\n",
       "      <td>17.529711</td>\n",
       "      <td>17.578288</td>\n",
       "      <td>18.819188</td>\n",
       "      <td>19.585921</td>\n",
       "      <td>23.188406</td>\n",
       "      <td>25.917431</td>\n",
       "      <td>28.429119</td>\n",
       "      <td>28.391768</td>\n",
       "      <td>27.474207</td>\n",
       "    </tr>\n",
       "  </tbody>\n",
       "</table>\n",
       "</div>"
      ],
      "text/plain": [
       "                     Редакция      Подразделение    2021-11    2021-12  \\\n",
       "3   100 - Редакция \"Комильфо\"  ИТОГ % НЕЛИКВИДОВ  23.783784  14.728682   \n",
       "21         101 - Редакция № 1  ИТОГ % НЕЛИКВИДОВ  12.500000  11.111111   \n",
       "48         102 - Редакция № 2  ИТОГ % НЕЛИКВИДОВ  20.958084  16.256158   \n",
       "80         120 - Редакция № 5  ИТОГ % НЕЛИКВИДОВ  18.953145  16.330039   \n",
       "\n",
       "      2022-01    2022-02    2022-03    2022-04    2022-05    2022-06  \\\n",
       "3   13.028169  16.666667  15.053763  15.384615  16.838488  21.107266   \n",
       "21   9.087719  10.222851  12.270804  15.005284  12.008578  13.179396   \n",
       "48  16.624896  20.909091  24.152192  27.162490  23.393740  26.109215   \n",
       "80  15.627669  17.529711  17.578288  18.819188  19.585921  23.188406   \n",
       "\n",
       "      2022-07    2022-08    2022-09    2022-10  \n",
       "3   19.536424  17.000000  15.017065  14.878893  \n",
       "21  14.081996  17.433853  19.579405  23.424408  \n",
       "48  27.512777  31.921824  32.801277  33.044847  \n",
       "80  25.917431  28.429119  28.391768  27.474207  "
      ]
     },
     "execution_count": 50,
     "metadata": {},
     "output_type": "execute_result"
    }
   ],
   "source": [
    "output = create_report('input/ЭКСМО/')\n",
    "# Get graph data\n",
    "output.reset_index(inplace=True)\n",
    "graph1_data = output.loc[lambda df: df['Подразделение'].isin(['ИТОГ % НЕЛИКВИДОВ']), :]\n",
    "graph1_data = graph1_data.loc[lambda df: df['Редакция'].isin(['100 - Редакция \"Комильфо\"',\n",
    "                                                '101 - Редакция № 1',\n",
    "                                                '102 - Редакция № 2',\n",
    "                                                '120 - Редакция № 5']), :]\n",
    "graph1_data"
   ]
  },
  {
   "cell_type": "code",
   "execution_count": null,
   "id": "95e7de28-204a-4c34-b4e7-a2dcb6cf6da9",
   "metadata": {},
   "outputs": [],
   "source": []
  },
  {
   "cell_type": "code",
   "execution_count": 38,
   "id": "fc1364d2-de76-4846-9936-457cd3fdc2b6",
   "metadata": {},
   "outputs": [
    {
     "name": "stdout",
     "output_type": "stream",
     "text": [
      "done\n"
     ]
    }
   ],
   "source": [
    "write_output(output)"
   ]
  },
  {
   "cell_type": "code",
   "execution_count": null,
   "id": "f9a3b41f-d4f0-41e7-9dc5-b700d058815e",
   "metadata": {},
   "outputs": [],
   "source": [
    "# Get the xlsxwriter workbook and worksheet objects.\n",
    "workbook = writer.book\n",
    "worksheet = writer.sheets['sheetName']\n",
    "chart1 = workbook.add_chart({'type': 'line'})\n",
    "\n",
    "# Fill the chart from the dataframe data\n",
    "(max_row, max_col) = df.shape\n",
    "for row in range(1, max_row + 1):\n",
    "    chart1.add_series({\n",
    "        'values': ['sheetName', row, 1, row, max_col-1],\n",
    "        'name': ['sheetName', row, 0, row, 0],\n",
    "        'line': {'width': 1},\n",
    "        'smooth': True,\n",
    "    })\n",
    "\n",
    "\n",
    "\n",
    "# Insert chart with params\n",
    "worksheet.insert_chart(max_row + 1, 0, chart1)\n",
    "\n"
   ]
  }
 ],
 "metadata": {
  "colab": {
   "provenance": []
  },
  "kernelspec": {
   "display_name": "Python 3 (ipykernel)",
   "language": "python",
   "name": "python3"
  },
  "language_info": {
   "codemirror_mode": {
    "name": "ipython",
    "version": 3
   },
   "file_extension": ".py",
   "mimetype": "text/x-python",
   "name": "python",
   "nbconvert_exporter": "python",
   "pygments_lexer": "ipython3",
   "version": "3.10.4"
  }
 },
 "nbformat": 4,
 "nbformat_minor": 5
}
